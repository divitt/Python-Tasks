Q1) Explore split, strip, replace, center, title methods of string data type in python.
T1="Hey I am Arunava"
print(T1)
print(T1.split())
T2="    Hey   I   am     DIVIT        "
print(T2.strip())
T3= "Hi, World!"
print(T3.replace("World", "Python"))
T4 = "Nice to learn python"
print(T4.center(30, "-"))
print(T4.title())
Hey I am DIVIT
['Hey', 'I', 'am', 'DIVIT']
Hey   I   am     DIVIT
Hi, Python!
-----Nice to learn python-----
Nice To Learn Python
Q2) Explore append, pop, remove, sort methods of list data type
names = ['DIVIT','Abir','Akash']
names.append('Dyutiman')
print(names)
names.remove('Akash')
print(names)
names.pop()
print(names)
names.sort()
print(names)
['DIVIT', 'Abir', 'Akash', 'Dyutiman']
['DIVIT', 'Abir', 'Dyutiman']
['DIVIT', 'Abir']
['DIVIT', 'Arunava']
Q3)Create 5 real time lists to store some useful information in python eg. Language = [ ‘java’, ‘c’, ‘c++’, ‘ruby’ ]
Language=['Java', 'C', 'C++', 'Ruby']
Fruits=['Apple', 'Banana', 'Jackfruit', 'Coconut']
Countries=['India', 'Pakistan', 'China', 'Bangladesh']
Colours = ['Green', 'Blue', 'Peach','Black']
Cities = ['Kolata', 'Delhi', 'Bangalore','Lucknow']
Language.sort()
print(Language)
Countries.sort()
print(Countries)
Fruits.sort()
print(Fruits)
Colours.sort()
print(Colours)
Cities.sort()
print(Cities)
['C', 'C++', 'Java', 'Ruby']
['Bangladesh', 'China', 'India', 'Pakistan']
['Apple', 'Banana', 'Coconut', 'Jackfruit']
['Black', 'Blue', 'Green', 'Peach']
['Bangalore', 'Delhi', 'Kolata', 'Lucknow']
Q4) What is difference between mutable and immutable data types in python.
Mutable
Mutable data types are those whose values can be changed after they are assigned. You can modify mutable objects directly without creating a new object. Examples of mutable data types in Python include lists (list), dictionaries (dict), and sets (set).

Example-

List1=['1', '2', '3', '4']
List1.append('5')
print(List1)
List2=[1,2,3,4]
List2.append(5)
print(List2)
['1', '2', '3', '4', '5']
[1, 2, 3, 4, 5]
Immutable Data Types:
Immutable data types cannot be modified after they are created. When an immutable object is modified, a new object is created with the modified value and a different memory location. Examples of immutable data types in Python include strings, numbers (integers, floats), and tuples. Example

my_string="Hello"
new_my_string=my_string +" " "World"
print(new_my_string)
Hello World
The distinction between mutable and immutable data types is important because it affects how these objects behave in terms of assignment, modification, and memory usage. Immutable data types are useful for situations where you want to ensure that the value of an object cannot be changed once it is assigned, while mutable data types allow for flexibility in modifying and updating data structures.

Q5) What are identifiers, list rules of identifiers in python.
Identifiers in Python are names used to identify variables, functions, classes, modules, or any other user-defined objects. They are used to give a unique name to these entities, making it easier to refer to them in the code.

Here are the rules for defining identifiers in Python.

Valid Characters Case-Sensitivity Reserved Words Length Limit Naming Convention
