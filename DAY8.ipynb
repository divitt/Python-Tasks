{
 "cells": [
  {
   "cell_type": "markdown",
   "id": "2c318aba",
   "metadata": {},
   "source": [
    "DAY 8\n",
    "Q1)What are the two values of the Boolean data type? How do you write them?\n",
    "The two values of the Boolean data type are:\n",
    "\n",
    "True: Represents a true or logical \"yes\" value.\n",
    "\n",
    "False: Represents a false or logical \"no\" value.\n",
    "\n",
    "In Python, you write these Boolean values as True and False.\n",
    "\n",
    "Q2) What are the three Boolean operators?\n",
    "The three Boolean operators in Python are:\n",
    "\n",
    "and operator:\n",
    "\n",
    "or operator:\n",
    "\n",
    "not operator:\n",
    "\n",
    "Q3) Write out the truth tables of each Boolean operator (that is, every possible combination of Boolean values for the operator and what they evaluate to).\n",
    "and operator:\n",
    "\n",
    "The and operator returns True if both operands are true. Otherwise, it returns False. It performs a logical AND operation on the operands.\n",
    "\n",
    "or operator:\n",
    "\n",
    "The or operator returns True if at least one of the operands is true. If both operands are false, it returns False. It performs a logical OR operation on the operands.\n",
    "\n",
    "not operator:\n",
    "\n",
    "The not operator returns the opposite of the operand. If the operand is True, it returns False, and if the operand is False, it returns True. It performs a logical NOT operation on the operand.\n",
    "\n",
    "Q4) What do the following expressions evaluate to?\n",
    "(5 > 4) and (3 == 5) ------------------> False\n",
    "\n",
    "not (5 > 4) ---------------------------> False\n",
    "\n",
    "(5 > 4) or (3 == 5) -------------------> True\n",
    "\n",
    "not ((5 > 4) or (3 == 5)) -------------> False\n",
    "\n",
    "(True and True) and (True == False) ---> False\n",
    "\n",
    "(not False) or (not True) ------------> True\n",
    "\n",
    "Q5) What are the six comparison operators?\n",
    "Equal to (==):\n",
    "\n",
    "Not equal to (!=):\n",
    "\n",
    "Greater than (>):\n",
    "\n",
    "Less than (<):\n",
    "\n",
    "Greater than or equal to (>=):\n",
    "\n",
    "Less than or equal to (<=):\n",
    "\n",
    "Q6) What is the difference between the equal to operator and the assignment operator?\n",
    "The equal to operator and assignment operator are both used in programming but serve different purposes.\n",
    "\n",
    "The equal to operator, denoted by ==, is a comparison operator that checks whether two values are equal. It returns a boolean value of either true or false depending on whether the values are equal or not. For example, x == y would return true if the value of x is equal to the value of y.\n",
    "\n",
    "On the other hand, the assignment operator, denoted by =, is used to assign a value to a variable. For example, x = 5 would assign the value 5 to the variable x. It does not compare two values like the equal to operator.\n",
    "\n",
    "It's important to use these operators correctly in your code as using them interchangeably can result in unexpected behavior and errors.\n",
    "\n",
    "Q7) Explain what a condition is and where you would use one.\n",
    "A condition is a logical expression that evaluates to either true or false. In programming, conditions are used to control the flow of a program by executing different statements based on whether the condition is true or false.\n",
    "\n",
    "Conditional statements are used in various places in programming, such as loops and branching statements. For example, in an if-else statement, the condition is evaluated and if it's true, a specific block of code is executed, otherwise, another block of code is executed. Here's a simple Python example:"
   ]
  },
  {
   "cell_type": "code",
   "execution_count": 1,
   "id": "d0f42f88",
   "metadata": {},
   "outputs": [
    {
     "name": "stdout",
     "output_type": "stream",
     "text": [
      "Enter your number: DIVIT\n"
     ]
    },
    {
     "ename": "ValueError",
     "evalue": "invalid literal for int() with base 10: 'DIVIT'",
     "output_type": "error",
     "traceback": [
      "\u001b[1;31m---------------------------------------------------------------------------\u001b[0m",
      "\u001b[1;31mValueError\u001b[0m                                Traceback (most recent call last)",
      "Cell \u001b[1;32mIn[1], line 1\u001b[0m\n\u001b[1;32m----> 1\u001b[0m n \u001b[38;5;241m=\u001b[39m \u001b[38;5;28;43mint\u001b[39;49m\u001b[43m(\u001b[49m\u001b[38;5;28;43minput\u001b[39;49m\u001b[43m(\u001b[49m\u001b[38;5;124;43m\"\u001b[39;49m\u001b[38;5;124;43mEnter your number: \u001b[39;49m\u001b[38;5;124;43m\"\u001b[39;49m\u001b[43m)\u001b[49m\u001b[43m)\u001b[49m\n\u001b[0;32m      3\u001b[0m \u001b[38;5;28;01mif\u001b[39;00m n \u001b[38;5;241m>\u001b[39m \u001b[38;5;241m4\u001b[39m:\n\u001b[0;32m      4\u001b[0m     \u001b[38;5;28mprint\u001b[39m(\u001b[38;5;124m\"\u001b[39m\u001b[38;5;124mObviously duuh\u001b[39m\u001b[38;5;124m\"\u001b[39m)\n",
      "\u001b[1;31mValueError\u001b[0m: invalid literal for int() with base 10: 'DIVIT'"
     ]
    }
   ],
   "source": [
    "n = int(input(\"Enter your number: \"))\n",
    "\n",
    "if n > 4:\n",
    "    print(\"Obviously duuh\")\n",
    "else:\n",
    "    print(\"you are dumb\")"
   ]
  }
 ],
 "metadata": {
  "kernelspec": {
   "display_name": "Python 3 (ipykernel)",
   "language": "python",
   "name": "python3"
  },
  "language_info": {
   "codemirror_mode": {
    "name": "ipython",
    "version": 3
   },
   "file_extension": ".py",
   "mimetype": "text/x-python",
   "name": "python",
   "nbconvert_exporter": "python",
   "pygments_lexer": "ipython3",
   "version": "3.10.9"
  }
 },
 "nbformat": 4,
 "nbformat_minor": 5
}
